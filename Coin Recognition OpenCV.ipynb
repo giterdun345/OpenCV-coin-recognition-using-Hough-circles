{
 "cells": [
  {
   "cell_type": "code",
   "execution_count": 1,
   "metadata": {},
   "outputs": [],
   "source": [
    "import cv2\n",
    "import numpy as np"
   ]
  },
  {
   "cell_type": "code",
   "execution_count": 2,
   "metadata": {},
   "outputs": [],
   "source": [
    "# import image blurring on and leaving another as is \n",
    "coins = cv2.imread(r'coins.png', cv2.IMREAD_GRAYSCALE)\n",
    "original_image = cv2.imread('coins.png', 1)\n",
    "coins = cv2.GaussianBlur(coins, (5,5), 0)"
   ]
  },
  {
   "cell_type": "code",
   "execution_count": 3,
   "metadata": {},
   "outputs": [],
   "source": [
    "# ensure image loaded \n",
    "cv2.imshow('Image', original_image)\n",
    "cv2.waitKey(0)\n",
    "cv2.destroyAllWindows()"
   ]
  },
  {
   "cell_type": "code",
   "execution_count": 4,
   "metadata": {},
   "outputs": [],
   "source": [
    "# check image for grey \n",
    "cv2.imshow('Image', coins)\n",
    "cv2.waitKey(0)\n",
    "cv2.destroyAllWindows()"
   ]
  },
  {
   "cell_type": "code",
   "execution_count": 5,
   "metadata": {},
   "outputs": [],
   "source": [
    "# # values to search through\n",
    "# param1 = [50, 51, ]\n",
    "# param2 = np.arange(26,34, 1)\n",
    "# minDist = np.arange(115,125, 5)\n",
    "\n",
    "# for num in param1:\n",
    "#     for val in param2:\n",
    "#         for dis in minDist:\n",
    "#             circles = cv2.HoughCircles(coins,\n",
    "#                                    cv2.HOUGH_GRADIENT,\n",
    "#                                    dp = 1.2,\n",
    "#                                    minDist = dis,\n",
    "#                                    param1= num,\n",
    "#                                    param2 = val, \n",
    "#                                    minRadius = 20,\n",
    "#                                    maxRadius = 100\n",
    "#                                   )\n",
    "#             # ensure at least some circles were found\n",
    "#             if circles is not None:\n",
    "#                 circles = [np.rint(circle)for circle in circles]\n",
    "#             else:\n",
    "#                 continue\n",
    "\n",
    "#             output = original_image.copy()\n",
    "#             # loop over the (x, y) coordinates and radius of the circles\n",
    "#             for (x, y, r) in circles[0]:\n",
    "#             # draw the circle in the output image, then draw a rectangle\n",
    "#             # corresponding to the center of the circle\n",
    "#                 cv2.circle(output, (x, y), r, (0,0,255), 3 )\n",
    "\n",
    "#             # display image with circles\n",
    "#             cv2.imshow(f\"Here is param1 {num} and param2 {val} with minDist {dis}\", output)\n",
    "#             cv2.waitKey(0)\n",
    "#             cv2.destroyAllWindows()"
   ]
  },
  {
   "cell_type": "code",
   "execution_count": 6,
   "metadata": {},
   "outputs": [],
   "source": [
    "# input desired calculations from above\n",
    "circles = cv2.HoughCircles(coins,\n",
    "                           cv2.HOUGH_GRADIENT,\n",
    "                           dp = 1.2,\n",
    "                           minDist = 115,\n",
    "                           param1=50,\n",
    "                           param2 = 26, \n",
    "                           minRadius = 20,\n",
    "                           maxRadius = 100\n",
    "                          )"
   ]
  },
  {
   "cell_type": "code",
   "execution_count": 7,
   "metadata": {},
   "outputs": [
    {
     "data": {
      "text/plain": [
       "9"
      ]
     },
     "execution_count": 7,
     "metadata": {},
     "output_type": "execute_result"
    }
   ],
   "source": [
    "# rounds values output by hough function and displays the mount of circles\n",
    "circles = [np.rint(circle)for circle in circles]\n",
    "len(circles[0])"
   ]
  },
  {
   "cell_type": "code",
   "execution_count": 8,
   "metadata": {},
   "outputs": [
    {
     "name": "stdout",
     "output_type": "stream",
     "text": [
      "[81.49, 202.63, 99.78, 93.82, 76.88, 120.75, 175.51, 76.5, 97.17]\n"
     ]
    }
   ],
   "source": [
    "# Obtain average brightness within each circle\n",
    "brightness = []\n",
    "for circle in circles[0]:\n",
    "    lowerx = int(circle[1] - 5)\n",
    "    upperx = int(circle[1] + 5)\n",
    "    lowery = int(circle[0] - 5)\n",
    "    uppery = int(circle[0] + 5)\n",
    "    average_brightness = original_image[lowerx:upperx, lowery:uppery].mean()\n",
    "    brightness.append(round(average_brightness,2))\n",
    "print(brightness)"
   ]
  },
  {
   "cell_type": "code",
   "execution_count": 9,
   "metadata": {},
   "outputs": [],
   "source": [
    "output = original_image.copy()\n",
    "count = 0\n",
    "# loop over the (x, y) coordinates and radius of the circles\n",
    "for (x, y, r) in circles[0]:\n",
    "    # keeps count of the coin\n",
    "    count +=1\n",
    "    # draw the circle in the output image, then draw a rectangle\n",
    "    # corresponding to the center of the circle\n",
    "    cv2.circle(output, (x, y), r, (0,0,255), 3 )\n",
    "    leftx = int(x - 5)\n",
    "    lefty = int(y - 5)\n",
    "    rightx = int(x + 5)\n",
    "    righty = int(y + 5)\n",
    "    cv2.rectangle(output, (leftx, lefty), (rightx, righty), (0, 128, 255), -1)\n",
    "#     cv2.putText(output, str(count), (x,y), cv2.FONT_HERSHEY_SIMPLEX , 2, (255, 0, 0), 2)\n",
    "#     print(count - 1, r, brightness[count - 1])\n",
    "    \n",
    "#     deciding which coin is which by radii and brightness\n",
    "    if r > 67 and r < 70 and brightness[count-1] <= 94:\n",
    "#         print('found 1')\n",
    "        coin = 2\n",
    "    elif r > 55 and brightness[count-1] > 200:\n",
    "#         print('found 10')\n",
    "        coin = 10\n",
    "    elif r > 52 and r < 57 and brightness[count-1] > 75 and brightness[count-1] < 121:\n",
    "#         print('found 1')\n",
    "        coin = 1\n",
    "    elif r > 50 and r < 67 and brightness[count-1] > 170:\n",
    "#         print('found 5')\n",
    "        coin = 5 \n",
    "    else:\n",
    "#         print('found nothing')\n",
    "        coin = 100\n",
    "    \n",
    "    cv2.putText(output, (str(coin) + ' Pence'), (x,y), cv2.FONT_HERSHEY_SIMPLEX , 1, (255, 0, 0), 2)\n",
    "\n",
    "    \n",
    "# displaying the circles\n",
    "cv2.imshow(\"output\", output)\n",
    "\n",
    "cv2.waitKey(0)\n",
    "cv2.destroyAllWindows()"
   ]
  },
  {
   "cell_type": "code",
   "execution_count": null,
   "metadata": {},
   "outputs": [],
   "source": []
  },
  {
   "cell_type": "code",
   "execution_count": null,
   "metadata": {},
   "outputs": [],
   "source": []
  }
 ],
 "metadata": {
  "kernelspec": {
   "display_name": "Python 3",
   "language": "python",
   "name": "python3"
  },
  "language_info": {
   "codemirror_mode": {
    "name": "ipython",
    "version": 3
   },
   "file_extension": ".py",
   "mimetype": "text/x-python",
   "name": "python",
   "nbconvert_exporter": "python",
   "pygments_lexer": "ipython3",
   "version": "3.7.3"
  }
 },
 "nbformat": 4,
 "nbformat_minor": 2
}
